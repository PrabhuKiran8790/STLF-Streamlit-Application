{
 "cells": [
  {
   "cell_type": "code",
   "execution_count": 1,
   "metadata": {},
   "outputs": [],
   "source": [
    "import numpy as np\n",
    "import tensorflow as tf\n",
    "load_model = tf.keras.models.load_model\n",
    "import pandas as pd\n",
    "import joblib as jbl"
   ]
  },
  {
   "cell_type": "code",
   "execution_count": 2,
   "metadata": {},
   "outputs": [],
   "source": [
    "def out_matrix(X, n_hidden, centroids, sigma_mat):\n",
    "        out_mat = np.zeros((X.shape[0], n_hidden))\n",
    "        for i in range(len(X)):\n",
    "            for j in range(n_hidden):\n",
    "                numerator = -np.square(X[i] - centroids[j]).sum()\n",
    "                denominator = 2*(np.square(sigma_mat[j]))\n",
    "                out_mat[i][j] = np.exp(numerator/denominator)\n",
    "        return out_mat"
   ]
  },
  {
   "cell_type": "code",
   "execution_count": 53,
   "metadata": {},
   "outputs": [],
   "source": [
    "def scale(x, x_min, x_max):\n",
    "    return np.array([[(x[i] - x_min[i]) / (x_max[i] - x_min[i]) for i in range(len(x))]])"
   ]
  },
  {
   "attachments": {},
   "cell_type": "markdown",
   "metadata": {},
   "source": [
    "# Temperature / Humidity"
   ]
  },
  {
   "cell_type": "code",
   "execution_count": 3,
   "metadata": {},
   "outputs": [
    {
     "data": {
      "text/plain": [
       "dict_keys(['neurons', 'centers', 'sigma', 'batch_size', 'lr', 'loss_fn'])"
      ]
     },
     "execution_count": 3,
     "metadata": {},
     "output_type": "execute_result"
    }
   ],
   "source": [
    "temp_data = jbl.load('temperature_Metadata_N_12_P_11_bs_32.jbl')\n",
    "temp_data.keys()"
   ]
  },
  {
   "cell_type": "code",
   "execution_count": 4,
   "metadata": {},
   "outputs": [
    {
     "data": {
      "text/plain": [
       "dict_keys(['modified_data_orig', 'temp_x_scalar', 'temp_y_scalar', 'temp_x_data_scaled', 'temp_y_data_scaled', 'X_train_temp', 'X_test_temp', 'y_train_temp', 'y_test_temp', 'metadata'])"
      ]
     },
     "execution_count": 4,
     "metadata": {},
     "output_type": "execute_result"
    }
   ],
   "source": [
    "all_temp_data = jbl.load('/Users/prabhukiran/Desktop/complete_sample_predictions/clean_exported_datasets/all_temp_data.joblib')\n",
    "all_temp_data.keys()"
   ]
  },
  {
   "cell_type": "code",
   "execution_count": 114,
   "metadata": {},
   "outputs": [
    {
     "data": {
      "text/plain": [
       "dict_keys(['modified_data_orig', 'humidity_x_scalar', 'humidity_y_scalar', 'humidity_x_data_scaled', 'humidity_y_data_scaled', 'X_train_humidity', 'X_test_humidity', 'y_train_humidity', 'y_test_humidity', 'metadata'])"
      ]
     },
     "execution_count": 114,
     "metadata": {},
     "output_type": "execute_result"
    }
   ],
   "source": [
    "all_humidity_data = jbl.load('/Users/prabhukiran/Desktop/complete_sample_predictions/clean_exported_datasets/all_humidity_data.joblib')\n",
    "all_humidity_data.keys()"
   ]
  },
  {
   "cell_type": "code",
   "execution_count": 158,
   "metadata": {},
   "outputs": [
    {
     "data": {
      "text/plain": [
       "dict_keys(['load_data', 'load_X_scaler', 'load_y_scaler', 'load_X_data_scaled', 'load_y_data_scaled', 'load_X_train', 'load_X_test', 'load_y_train', 'load_y_test', 'metadata'])"
      ]
     },
     "execution_count": 158,
     "metadata": {},
     "output_type": "execute_result"
    }
   ],
   "source": [
    "all_load_data = jbl.load('/Users/prabhukiran/Desktop/complete_sample_predictions/clean_exported_datasets/all_original_load_data.joblib')\n",
    "all_load_data.keys()"
   ]
  },
  {
   "cell_type": "code",
   "execution_count": 182,
   "metadata": {},
   "outputs": [
    {
     "data": {
      "text/plain": [
       "dict_keys(['compressed_X_train_data', 'compressed_X_test_data', 'load_y_train', 'load_y_test'])"
      ]
     },
     "execution_count": 182,
     "metadata": {},
     "output_type": "execute_result"
    }
   ],
   "source": [
    "all_compressed_data = jbl.load('/Users/prabhukiran/Desktop/complete_sample_predictions/clean_exported_datasets/compressed_data_info.joblib')\n",
    "all_compressed_data.keys()"
   ]
  },
  {
   "cell_type": "code",
   "execution_count": 163,
   "metadata": {},
   "outputs": [
    {
     "data": {
      "text/html": [
       "<div>\n",
       "<style scoped>\n",
       "    .dataframe tbody tr th:only-of-type {\n",
       "        vertical-align: middle;\n",
       "    }\n",
       "\n",
       "    .dataframe tbody tr th {\n",
       "        vertical-align: top;\n",
       "    }\n",
       "\n",
       "    .dataframe thead th {\n",
       "        text-align: right;\n",
       "    }\n",
       "</style>\n",
       "<table border=\"1\" class=\"dataframe\">\n",
       "  <thead>\n",
       "    <tr style=\"text-align: right;\">\n",
       "      <th></th>\n",
       "      <th>T-1</th>\n",
       "      <th>T-2</th>\n",
       "      <th>T-3</th>\n",
       "      <th>T-4</th>\n",
       "      <th>T-24</th>\n",
       "      <th>T-48</th>\n",
       "      <th>T-72</th>\n",
       "      <th>T-96</th>\n",
       "      <th>DAY</th>\n",
       "      <th>SEASON</th>\n",
       "      <th>TEMP</th>\n",
       "      <th>HUMIDITY</th>\n",
       "      <th>T</th>\n",
       "    </tr>\n",
       "  </thead>\n",
       "  <tbody>\n",
       "    <tr>\n",
       "      <th>0</th>\n",
       "      <td>2083.646729</td>\n",
       "      <td>455.976231</td>\n",
       "      <td>515.451392</td>\n",
       "      <td>654.226767</td>\n",
       "      <td>2260.056104</td>\n",
       "      <td>2236.756556</td>\n",
       "      <td>1828.915749</td>\n",
       "      <td>1967.388015</td>\n",
       "      <td>0.0</td>\n",
       "      <td>1.0</td>\n",
       "      <td>66.0</td>\n",
       "      <td>90.0</td>\n",
       "      <td>2062.165835</td>\n",
       "    </tr>\n",
       "    <tr>\n",
       "      <th>1</th>\n",
       "      <td>2062.165835</td>\n",
       "      <td>2083.646729</td>\n",
       "      <td>455.976231</td>\n",
       "      <td>515.451392</td>\n",
       "      <td>2260.056104</td>\n",
       "      <td>2236.756556</td>\n",
       "      <td>1828.915749</td>\n",
       "      <td>1967.388015</td>\n",
       "      <td>0.0</td>\n",
       "      <td>1.0</td>\n",
       "      <td>66.0</td>\n",
       "      <td>90.0</td>\n",
       "      <td>2062.165835</td>\n",
       "    </tr>\n",
       "    <tr>\n",
       "      <th>2</th>\n",
       "      <td>2062.165835</td>\n",
       "      <td>2062.165835</td>\n",
       "      <td>2083.646729</td>\n",
       "      <td>455.976231</td>\n",
       "      <td>2260.056104</td>\n",
       "      <td>2354.480586</td>\n",
       "      <td>1828.915749</td>\n",
       "      <td>1967.388015</td>\n",
       "      <td>0.0</td>\n",
       "      <td>1.0</td>\n",
       "      <td>66.0</td>\n",
       "      <td>90.0</td>\n",
       "      <td>2062.165835</td>\n",
       "    </tr>\n",
       "    <tr>\n",
       "      <th>3</th>\n",
       "      <td>2062.165835</td>\n",
       "      <td>2062.165835</td>\n",
       "      <td>2062.165835</td>\n",
       "      <td>2083.646729</td>\n",
       "      <td>2555.415800</td>\n",
       "      <td>2511.445958</td>\n",
       "      <td>1892.265507</td>\n",
       "      <td>2442.607331</td>\n",
       "      <td>0.0</td>\n",
       "      <td>1.0</td>\n",
       "      <td>80.0</td>\n",
       "      <td>40.0</td>\n",
       "      <td>2294.620910</td>\n",
       "    </tr>\n",
       "    <tr>\n",
       "      <th>4</th>\n",
       "      <td>2294.620910</td>\n",
       "      <td>2062.165835</td>\n",
       "      <td>2062.165835</td>\n",
       "      <td>2062.165835</td>\n",
       "      <td>2845.399210</td>\n",
       "      <td>2805.756031</td>\n",
       "      <td>2532.344883</td>\n",
       "      <td>2756.205522</td>\n",
       "      <td>0.0</td>\n",
       "      <td>1.0</td>\n",
       "      <td>80.0</td>\n",
       "      <td>40.0</td>\n",
       "      <td>2710.645657</td>\n",
       "    </tr>\n",
       "    <tr>\n",
       "      <th>...</th>\n",
       "      <td>...</td>\n",
       "      <td>...</td>\n",
       "      <td>...</td>\n",
       "      <td>...</td>\n",
       "      <td>...</td>\n",
       "      <td>...</td>\n",
       "      <td>...</td>\n",
       "      <td>...</td>\n",
       "      <td>...</td>\n",
       "      <td>...</td>\n",
       "      <td>...</td>\n",
       "      <td>...</td>\n",
       "      <td>...</td>\n",
       "    </tr>\n",
       "    <tr>\n",
       "      <th>8659</th>\n",
       "      <td>1240.667993</td>\n",
       "      <td>1011.621595</td>\n",
       "      <td>847.076768</td>\n",
       "      <td>4727.043782</td>\n",
       "      <td>1160.855092</td>\n",
       "      <td>1154.281959</td>\n",
       "      <td>1116.436649</td>\n",
       "      <td>1097.513994</td>\n",
       "      <td>0.0</td>\n",
       "      <td>1.0</td>\n",
       "      <td>67.0</td>\n",
       "      <td>92.0</td>\n",
       "      <td>1221.580794</td>\n",
       "    </tr>\n",
       "    <tr>\n",
       "      <th>8660</th>\n",
       "      <td>1221.580794</td>\n",
       "      <td>1240.667993</td>\n",
       "      <td>1011.621595</td>\n",
       "      <td>847.076768</td>\n",
       "      <td>1011.067338</td>\n",
       "      <td>965.055409</td>\n",
       "      <td>1021.823374</td>\n",
       "      <td>965.055409</td>\n",
       "      <td>0.0</td>\n",
       "      <td>1.0</td>\n",
       "      <td>67.0</td>\n",
       "      <td>92.0</td>\n",
       "      <td>1173.204615</td>\n",
       "    </tr>\n",
       "    <tr>\n",
       "      <th>8661</th>\n",
       "      <td>1173.204615</td>\n",
       "      <td>1221.580794</td>\n",
       "      <td>1240.667993</td>\n",
       "      <td>1011.621595</td>\n",
       "      <td>898.726523</td>\n",
       "      <td>851.519478</td>\n",
       "      <td>946.132754</td>\n",
       "      <td>919.147402</td>\n",
       "      <td>0.0</td>\n",
       "      <td>1.0</td>\n",
       "      <td>65.0</td>\n",
       "      <td>94.0</td>\n",
       "      <td>1078.591339</td>\n",
       "    </tr>\n",
       "    <tr>\n",
       "      <th>8662</th>\n",
       "      <td>1078.591339</td>\n",
       "      <td>1173.204615</td>\n",
       "      <td>1221.580794</td>\n",
       "      <td>1240.667993</td>\n",
       "      <td>2023.111553</td>\n",
       "      <td>2668.094365</td>\n",
       "      <td>878.011195</td>\n",
       "      <td>825.356851</td>\n",
       "      <td>0.0</td>\n",
       "      <td>1.0</td>\n",
       "      <td>65.0</td>\n",
       "      <td>94.0</td>\n",
       "      <td>908.287443</td>\n",
       "    </tr>\n",
       "    <tr>\n",
       "      <th>8663</th>\n",
       "      <td>908.287443</td>\n",
       "      <td>1078.591339</td>\n",
       "      <td>1173.204615</td>\n",
       "      <td>1221.580794</td>\n",
       "      <td>2023.111553</td>\n",
       "      <td>2724.862330</td>\n",
       "      <td>2462.248787</td>\n",
       "      <td>825.356851</td>\n",
       "      <td>0.0</td>\n",
       "      <td>1.0</td>\n",
       "      <td>65.0</td>\n",
       "      <td>94.0</td>\n",
       "      <td>839.836796</td>\n",
       "    </tr>\n",
       "  </tbody>\n",
       "</table>\n",
       "<p>8664 rows × 13 columns</p>\n",
       "</div>"
      ],
      "text/plain": [
       "              T-1          T-2          T-3          T-4         T-24  \\\n",
       "0     2083.646729   455.976231   515.451392   654.226767  2260.056104   \n",
       "1     2062.165835  2083.646729   455.976231   515.451392  2260.056104   \n",
       "2     2062.165835  2062.165835  2083.646729   455.976231  2260.056104   \n",
       "3     2062.165835  2062.165835  2062.165835  2083.646729  2555.415800   \n",
       "4     2294.620910  2062.165835  2062.165835  2062.165835  2845.399210   \n",
       "...           ...          ...          ...          ...          ...   \n",
       "8659  1240.667993  1011.621595   847.076768  4727.043782  1160.855092   \n",
       "8660  1221.580794  1240.667993  1011.621595   847.076768  1011.067338   \n",
       "8661  1173.204615  1221.580794  1240.667993  1011.621595   898.726523   \n",
       "8662  1078.591339  1173.204615  1221.580794  1240.667993  2023.111553   \n",
       "8663   908.287443  1078.591339  1173.204615  1221.580794  2023.111553   \n",
       "\n",
       "             T-48         T-72         T-96  DAY  SEASON  TEMP  HUMIDITY  \\\n",
       "0     2236.756556  1828.915749  1967.388015  0.0     1.0  66.0      90.0   \n",
       "1     2236.756556  1828.915749  1967.388015  0.0     1.0  66.0      90.0   \n",
       "2     2354.480586  1828.915749  1967.388015  0.0     1.0  66.0      90.0   \n",
       "3     2511.445958  1892.265507  2442.607331  0.0     1.0  80.0      40.0   \n",
       "4     2805.756031  2532.344883  2756.205522  0.0     1.0  80.0      40.0   \n",
       "...           ...          ...          ...  ...     ...   ...       ...   \n",
       "8659  1154.281959  1116.436649  1097.513994  0.0     1.0  67.0      92.0   \n",
       "8660   965.055409  1021.823374   965.055409  0.0     1.0  67.0      92.0   \n",
       "8661   851.519478   946.132754   919.147402  0.0     1.0  65.0      94.0   \n",
       "8662  2668.094365   878.011195   825.356851  0.0     1.0  65.0      94.0   \n",
       "8663  2724.862330  2462.248787   825.356851  0.0     1.0  65.0      94.0   \n",
       "\n",
       "                T  \n",
       "0     2062.165835  \n",
       "1     2062.165835  \n",
       "2     2062.165835  \n",
       "3     2294.620910  \n",
       "4     2710.645657  \n",
       "...           ...  \n",
       "8659  1221.580794  \n",
       "8660  1173.204615  \n",
       "8661  1078.591339  \n",
       "8662   908.287443  \n",
       "8663   839.836796  \n",
       "\n",
       "[8664 rows x 13 columns]"
      ]
     },
     "execution_count": 163,
     "metadata": {},
     "output_type": "execute_result"
    }
   ],
   "source": [
    "load_df =all_load_data['load_data']\n",
    "load_df"
   ]
  },
  {
   "cell_type": "code",
   "execution_count": 5,
   "metadata": {},
   "outputs": [
    {
     "data": {
      "text/html": [
       "<div>\n",
       "<style scoped>\n",
       "    .dataframe tbody tr th:only-of-type {\n",
       "        vertical-align: middle;\n",
       "    }\n",
       "\n",
       "    .dataframe tbody tr th {\n",
       "        vertical-align: top;\n",
       "    }\n",
       "\n",
       "    .dataframe thead th {\n",
       "        text-align: right;\n",
       "    }\n",
       "</style>\n",
       "<table border=\"1\" class=\"dataframe\">\n",
       "  <thead>\n",
       "    <tr style=\"text-align: right;\">\n",
       "      <th></th>\n",
       "      <th>T-1</th>\n",
       "      <th>T-24</th>\n",
       "      <th>H-1</th>\n",
       "      <th>H-24</th>\n",
       "      <th>Season</th>\n",
       "      <th>T</th>\n",
       "    </tr>\n",
       "  </thead>\n",
       "  <tbody>\n",
       "    <tr>\n",
       "      <th>0</th>\n",
       "      <td>62.0</td>\n",
       "      <td>65.0</td>\n",
       "      <td>89.0</td>\n",
       "      <td>90.0</td>\n",
       "      <td>1.0</td>\n",
       "      <td>65.0</td>\n",
       "    </tr>\n",
       "    <tr>\n",
       "      <th>1</th>\n",
       "      <td>65.0</td>\n",
       "      <td>65.0</td>\n",
       "      <td>90.0</td>\n",
       "      <td>90.0</td>\n",
       "      <td>1.0</td>\n",
       "      <td>65.0</td>\n",
       "    </tr>\n",
       "    <tr>\n",
       "      <th>2</th>\n",
       "      <td>65.0</td>\n",
       "      <td>65.0</td>\n",
       "      <td>90.0</td>\n",
       "      <td>90.0</td>\n",
       "      <td>1.0</td>\n",
       "      <td>65.0</td>\n",
       "    </tr>\n",
       "    <tr>\n",
       "      <th>3</th>\n",
       "      <td>65.0</td>\n",
       "      <td>78.0</td>\n",
       "      <td>90.0</td>\n",
       "      <td>49.0</td>\n",
       "      <td>1.0</td>\n",
       "      <td>78.0</td>\n",
       "    </tr>\n",
       "    <tr>\n",
       "      <th>4</th>\n",
       "      <td>78.0</td>\n",
       "      <td>78.0</td>\n",
       "      <td>48.0</td>\n",
       "      <td>49.0</td>\n",
       "      <td>1.0</td>\n",
       "      <td>78.0</td>\n",
       "    </tr>\n",
       "    <tr>\n",
       "      <th>...</th>\n",
       "      <td>...</td>\n",
       "      <td>...</td>\n",
       "      <td>...</td>\n",
       "      <td>...</td>\n",
       "      <td>...</td>\n",
       "      <td>...</td>\n",
       "    </tr>\n",
       "    <tr>\n",
       "      <th>8731</th>\n",
       "      <td>67.0</td>\n",
       "      <td>69.0</td>\n",
       "      <td>92.0</td>\n",
       "      <td>88.0</td>\n",
       "      <td>1.0</td>\n",
       "      <td>67.0</td>\n",
       "    </tr>\n",
       "    <tr>\n",
       "      <th>8732</th>\n",
       "      <td>67.0</td>\n",
       "      <td>69.0</td>\n",
       "      <td>92.0</td>\n",
       "      <td>88.0</td>\n",
       "      <td>1.0</td>\n",
       "      <td>67.0</td>\n",
       "    </tr>\n",
       "    <tr>\n",
       "      <th>8733</th>\n",
       "      <td>67.0</td>\n",
       "      <td>65.0</td>\n",
       "      <td>92.0</td>\n",
       "      <td>94.0</td>\n",
       "      <td>1.0</td>\n",
       "      <td>65.0</td>\n",
       "    </tr>\n",
       "    <tr>\n",
       "      <th>8734</th>\n",
       "      <td>65.0</td>\n",
       "      <td>65.0</td>\n",
       "      <td>94.0</td>\n",
       "      <td>94.0</td>\n",
       "      <td>1.0</td>\n",
       "      <td>65.0</td>\n",
       "    </tr>\n",
       "    <tr>\n",
       "      <th>8735</th>\n",
       "      <td>65.0</td>\n",
       "      <td>65.0</td>\n",
       "      <td>94.0</td>\n",
       "      <td>94.0</td>\n",
       "      <td>1.0</td>\n",
       "      <td>65.0</td>\n",
       "    </tr>\n",
       "  </tbody>\n",
       "</table>\n",
       "<p>8736 rows × 6 columns</p>\n",
       "</div>"
      ],
      "text/plain": [
       "       T-1  T-24   H-1  H-24  Season     T\n",
       "0     62.0  65.0  89.0  90.0     1.0  65.0\n",
       "1     65.0  65.0  90.0  90.0     1.0  65.0\n",
       "2     65.0  65.0  90.0  90.0     1.0  65.0\n",
       "3     65.0  78.0  90.0  49.0     1.0  78.0\n",
       "4     78.0  78.0  48.0  49.0     1.0  78.0\n",
       "...    ...   ...   ...   ...     ...   ...\n",
       "8731  67.0  69.0  92.0  88.0     1.0  67.0\n",
       "8732  67.0  69.0  92.0  88.0     1.0  67.0\n",
       "8733  67.0  65.0  92.0  94.0     1.0  65.0\n",
       "8734  65.0  65.0  94.0  94.0     1.0  65.0\n",
       "8735  65.0  65.0  94.0  94.0     1.0  65.0\n",
       "\n",
       "[8736 rows x 6 columns]"
      ]
     },
     "execution_count": 5,
     "metadata": {},
     "output_type": "execute_result"
    }
   ],
   "source": [
    "temp_df = all_temp_data['modified_data_orig']\n",
    "temp_df"
   ]
  },
  {
   "cell_type": "code",
   "execution_count": 61,
   "metadata": {},
   "outputs": [],
   "source": [
    "temp_y_scaler = all_temp_data['temp_y_scalar']"
   ]
  },
  {
   "cell_type": "code",
   "execution_count": 115,
   "metadata": {},
   "outputs": [
    {
     "data": {
      "text/plain": [
       "(array([102.]), array([14.]))"
      ]
     },
     "execution_count": 115,
     "metadata": {},
     "output_type": "execute_result"
    }
   ],
   "source": [
    "humidity_y_scaler = all_humidity_data['humidity_y_scalar']\n",
    "humidity_y_scaler.data_max_, humidity_y_scaler.data_min_"
   ]
  },
  {
   "cell_type": "code",
   "execution_count": 116,
   "metadata": {},
   "outputs": [],
   "source": [
    "humidity_x_scaler = all_humidity_data['humidity_x_scalar']"
   ]
  },
  {
   "cell_type": "code",
   "execution_count": 117,
   "metadata": {},
   "outputs": [
    {
     "data": {
      "text/plain": [
       "(array([108., 108., 102., 102.,   2.]), array([50., 50., 14., 14.,  0.]))"
      ]
     },
     "execution_count": 117,
     "metadata": {},
     "output_type": "execute_result"
    }
   ],
   "source": [
    "humidity_x_scaler.data_max_, humidity_x_scaler.data_min_"
   ]
  },
  {
   "cell_type": "code",
   "execution_count": 62,
   "metadata": {},
   "outputs": [
    {
     "data": {
      "text/plain": [
       "(array([108.]), array([50.]))"
      ]
     },
     "execution_count": 62,
     "metadata": {},
     "output_type": "execute_result"
    }
   ],
   "source": [
    "temp_y_scaler.data_max_, temp_y_scaler.data_min_"
   ]
  },
  {
   "cell_type": "code",
   "execution_count": 159,
   "metadata": {},
   "outputs": [],
   "source": [
    "load_x_scaler = all_load_data['load_X_scaler']\n",
    "load_y_scaler = all_load_data['load_y_scaler']"
   ]
  },
  {
   "cell_type": "code",
   "execution_count": 6,
   "metadata": {},
   "outputs": [
    {
     "data": {
      "text/plain": [
       "array([108., 108., 102., 102.,   2., 108.])"
      ]
     },
     "execution_count": 6,
     "metadata": {},
     "output_type": "execute_result"
    }
   ],
   "source": [
    "temp_max = temp_df.max().to_numpy()\n",
    "temp_max"
   ]
  },
  {
   "cell_type": "code",
   "execution_count": 7,
   "metadata": {},
   "outputs": [
    {
     "data": {
      "text/plain": [
       "array([[0.20689655, 0.25862069, 0.85227273, 0.86363636, 0.5       ],\n",
       "       [0.25862069, 0.25862069, 0.86363636, 0.86363636, 0.5       ],\n",
       "       [0.25862069, 0.25862069, 0.86363636, 0.86363636, 0.5       ],\n",
       "       ...,\n",
       "       [0.29310345, 0.25862069, 0.88636364, 0.90909091, 0.5       ],\n",
       "       [0.25862069, 0.25862069, 0.90909091, 0.90909091, 0.5       ],\n",
       "       [0.25862069, 0.25862069, 0.90909091, 0.90909091, 0.5       ]])"
      ]
     },
     "execution_count": 7,
     "metadata": {},
     "output_type": "execute_result"
    }
   ],
   "source": [
    "all_temp_data['temp_x_data_scaled']"
   ]
  },
  {
   "cell_type": "code",
   "execution_count": 8,
   "metadata": {},
   "outputs": [
    {
     "data": {
      "text/html": [
       "<style>#sk-container-id-1 {color: black;background-color: white;}#sk-container-id-1 pre{padding: 0;}#sk-container-id-1 div.sk-toggleable {background-color: white;}#sk-container-id-1 label.sk-toggleable__label {cursor: pointer;display: block;width: 100%;margin-bottom: 0;padding: 0.3em;box-sizing: border-box;text-align: center;}#sk-container-id-1 label.sk-toggleable__label-arrow:before {content: \"▸\";float: left;margin-right: 0.25em;color: #696969;}#sk-container-id-1 label.sk-toggleable__label-arrow:hover:before {color: black;}#sk-container-id-1 div.sk-estimator:hover label.sk-toggleable__label-arrow:before {color: black;}#sk-container-id-1 div.sk-toggleable__content {max-height: 0;max-width: 0;overflow: hidden;text-align: left;background-color: #f0f8ff;}#sk-container-id-1 div.sk-toggleable__content pre {margin: 0.2em;color: black;border-radius: 0.25em;background-color: #f0f8ff;}#sk-container-id-1 input.sk-toggleable__control:checked~div.sk-toggleable__content {max-height: 200px;max-width: 100%;overflow: auto;}#sk-container-id-1 input.sk-toggleable__control:checked~label.sk-toggleable__label-arrow:before {content: \"▾\";}#sk-container-id-1 div.sk-estimator input.sk-toggleable__control:checked~label.sk-toggleable__label {background-color: #d4ebff;}#sk-container-id-1 div.sk-label input.sk-toggleable__control:checked~label.sk-toggleable__label {background-color: #d4ebff;}#sk-container-id-1 input.sk-hidden--visually {border: 0;clip: rect(1px 1px 1px 1px);clip: rect(1px, 1px, 1px, 1px);height: 1px;margin: -1px;overflow: hidden;padding: 0;position: absolute;width: 1px;}#sk-container-id-1 div.sk-estimator {font-family: monospace;background-color: #f0f8ff;border: 1px dotted black;border-radius: 0.25em;box-sizing: border-box;margin-bottom: 0.5em;}#sk-container-id-1 div.sk-estimator:hover {background-color: #d4ebff;}#sk-container-id-1 div.sk-parallel-item::after {content: \"\";width: 100%;border-bottom: 1px solid gray;flex-grow: 1;}#sk-container-id-1 div.sk-label:hover label.sk-toggleable__label {background-color: #d4ebff;}#sk-container-id-1 div.sk-serial::before {content: \"\";position: absolute;border-left: 1px solid gray;box-sizing: border-box;top: 0;bottom: 0;left: 50%;z-index: 0;}#sk-container-id-1 div.sk-serial {display: flex;flex-direction: column;align-items: center;background-color: white;padding-right: 0.2em;padding-left: 0.2em;position: relative;}#sk-container-id-1 div.sk-item {position: relative;z-index: 1;}#sk-container-id-1 div.sk-parallel {display: flex;align-items: stretch;justify-content: center;background-color: white;position: relative;}#sk-container-id-1 div.sk-item::before, #sk-container-id-1 div.sk-parallel-item::before {content: \"\";position: absolute;border-left: 1px solid gray;box-sizing: border-box;top: 0;bottom: 0;left: 50%;z-index: -1;}#sk-container-id-1 div.sk-parallel-item {display: flex;flex-direction: column;z-index: 1;position: relative;background-color: white;}#sk-container-id-1 div.sk-parallel-item:first-child::after {align-self: flex-end;width: 50%;}#sk-container-id-1 div.sk-parallel-item:last-child::after {align-self: flex-start;width: 50%;}#sk-container-id-1 div.sk-parallel-item:only-child::after {width: 0;}#sk-container-id-1 div.sk-dashed-wrapped {border: 1px dashed gray;margin: 0 0.4em 0.5em 0.4em;box-sizing: border-box;padding-bottom: 0.4em;background-color: white;}#sk-container-id-1 div.sk-label label {font-family: monospace;font-weight: bold;display: inline-block;line-height: 1.2em;}#sk-container-id-1 div.sk-label-container {text-align: center;}#sk-container-id-1 div.sk-container {/* jupyter's `normalize.less` sets `[hidden] { display: none; }` but bootstrap.min.css set `[hidden] { display: none !important; }` so we also need the `!important` here to be able to override the default hidden behavior on the sphinx rendered scikit-learn.org. See: https://github.com/scikit-learn/scikit-learn/issues/21755 */display: inline-block !important;position: relative;}#sk-container-id-1 div.sk-text-repr-fallback {display: none;}</style><div id=\"sk-container-id-1\" class=\"sk-top-container\"><div class=\"sk-text-repr-fallback\"><pre>MinMaxScaler()</pre><b>In a Jupyter environment, please rerun this cell to show the HTML representation or trust the notebook. <br />On GitHub, the HTML representation is unable to render, please try loading this page with nbviewer.org.</b></div><div class=\"sk-container\" hidden><div class=\"sk-item\"><div class=\"sk-estimator sk-toggleable\"><input class=\"sk-toggleable__control sk-hidden--visually\" id=\"sk-estimator-id-1\" type=\"checkbox\" checked><label for=\"sk-estimator-id-1\" class=\"sk-toggleable__label sk-toggleable__label-arrow\">MinMaxScaler</label><div class=\"sk-toggleable__content\"><pre>MinMaxScaler()</pre></div></div></div></div></div>"
      ],
      "text/plain": [
       "MinMaxScaler()"
      ]
     },
     "execution_count": 8,
     "metadata": {},
     "output_type": "execute_result"
    }
   ],
   "source": [
    "temp_X_scaler = all_temp_data['temp_x_scalar']\n",
    "temp_X_scaler"
   ]
  },
  {
   "cell_type": "code",
   "execution_count": 9,
   "metadata": {},
   "outputs": [
    {
     "data": {
      "text/plain": [
       "(array([50., 50., 14., 14.,  0.]), array([108., 108., 102., 102.,   2.]))"
      ]
     },
     "execution_count": 9,
     "metadata": {},
     "output_type": "execute_result"
    }
   ],
   "source": [
    "temp_X_scaler.data_min_, temp_X_scaler.data_max_"
   ]
  },
  {
   "cell_type": "code",
   "execution_count": 10,
   "metadata": {},
   "outputs": [],
   "source": [
    "temp_max = temp_X_scaler.data_max_\n",
    "temp_min = temp_X_scaler.data_min_"
   ]
  },
  {
   "cell_type": "code",
   "execution_count": 11,
   "metadata": {},
   "outputs": [],
   "source": [
    "# def scale(x, x_max, x_min):\n",
    "#     X_scaled = np.zeros((x.shape[0], x.shape[1]))\n",
    "#     for i in range(x.shape[1]):\n",
    "#         X_scaled[:, i] = (x[:, i] - x_min[i])/(x_max[i] - x_min[i])\n",
    "#     return X_scaled"
   ]
  },
  {
   "cell_type": "code",
   "execution_count": 103,
   "metadata": {},
   "outputs": [],
   "source": [
    "sample_temp_data = temp_df.sample(1)"
   ]
  },
  {
   "cell_type": "code",
   "execution_count": 164,
   "metadata": {},
   "outputs": [
    {
     "data": {
      "text/html": [
       "<div>\n",
       "<style scoped>\n",
       "    .dataframe tbody tr th:only-of-type {\n",
       "        vertical-align: middle;\n",
       "    }\n",
       "\n",
       "    .dataframe tbody tr th {\n",
       "        vertical-align: top;\n",
       "    }\n",
       "\n",
       "    .dataframe thead th {\n",
       "        text-align: right;\n",
       "    }\n",
       "</style>\n",
       "<table border=\"1\" class=\"dataframe\">\n",
       "  <thead>\n",
       "    <tr style=\"text-align: right;\">\n",
       "      <th></th>\n",
       "      <th>T-1</th>\n",
       "      <th>T-2</th>\n",
       "      <th>T-3</th>\n",
       "      <th>T-4</th>\n",
       "      <th>T-24</th>\n",
       "      <th>T-48</th>\n",
       "      <th>T-72</th>\n",
       "      <th>T-96</th>\n",
       "      <th>DAY</th>\n",
       "      <th>SEASON</th>\n",
       "      <th>TEMP</th>\n",
       "      <th>HUMIDITY</th>\n",
       "      <th>T</th>\n",
       "    </tr>\n",
       "  </thead>\n",
       "  <tbody>\n",
       "    <tr>\n",
       "      <th>7233</th>\n",
       "      <td>2022.134677</td>\n",
       "      <td>2096.377303</td>\n",
       "      <td>2096.377303</td>\n",
       "      <td>1907.514483</td>\n",
       "      <td>2171.596805</td>\n",
       "      <td>2505.649131</td>\n",
       "      <td>2002.233413</td>\n",
       "      <td>2321.710184</td>\n",
       "      <td>0.0</td>\n",
       "      <td>1.0</td>\n",
       "      <td>80.0</td>\n",
       "      <td>62.0</td>\n",
       "      <td>1907.514483</td>\n",
       "    </tr>\n",
       "  </tbody>\n",
       "</table>\n",
       "</div>"
      ],
      "text/plain": [
       "              T-1          T-2          T-3          T-4         T-24  \\\n",
       "7233  2022.134677  2096.377303  2096.377303  1907.514483  2171.596805   \n",
       "\n",
       "             T-48         T-72         T-96  DAY  SEASON  TEMP  HUMIDITY  \\\n",
       "7233  2505.649131  2002.233413  2321.710184  0.0     1.0  80.0      62.0   \n",
       "\n",
       "                T  \n",
       "7233  1907.514483  "
      ]
     },
     "execution_count": 164,
     "metadata": {},
     "output_type": "execute_result"
    }
   ],
   "source": [
    "sample_load_data = load_df.sample(1)\n",
    "sample_load_data"
   ]
  },
  {
   "cell_type": "code",
   "execution_count": 104,
   "metadata": {},
   "outputs": [
    {
     "data": {
      "text/plain": [
       "array([[84., 84., 77., 86.,  0., 84.]])"
      ]
     },
     "execution_count": 104,
     "metadata": {},
     "output_type": "execute_result"
    }
   ],
   "source": [
    "sample_temp_data = sample_temp_data.values\n",
    "sample_temp_data"
   ]
  },
  {
   "cell_type": "code",
   "execution_count": 165,
   "metadata": {},
   "outputs": [
    {
     "data": {
      "text/plain": [
       "array([[2.02213468e+03, 2.09637730e+03, 2.09637730e+03, 1.90751448e+03,\n",
       "        2.17159681e+03, 2.50564913e+03, 2.00223341e+03, 2.32171018e+03,\n",
       "        0.00000000e+00, 1.00000000e+00, 8.00000000e+01, 6.20000000e+01,\n",
       "        1.90751448e+03]])"
      ]
     },
     "execution_count": 165,
     "metadata": {},
     "output_type": "execute_result"
    }
   ],
   "source": [
    "sample_load_data = sample_load_data.values\n",
    "sample_load_data"
   ]
  },
  {
   "cell_type": "code",
   "execution_count": 105,
   "metadata": {},
   "outputs": [
    {
     "data": {
      "text/plain": [
       "(1, 6)"
      ]
     },
     "execution_count": 105,
     "metadata": {},
     "output_type": "execute_result"
    }
   ],
   "source": [
    "sample_temp_data.shape"
   ]
  },
  {
   "cell_type": "code",
   "execution_count": 166,
   "metadata": {},
   "outputs": [
    {
     "data": {
      "text/plain": [
       "(1, 13)"
      ]
     },
     "execution_count": 166,
     "metadata": {},
     "output_type": "execute_result"
    }
   ],
   "source": [
    "sample_load_data.shape"
   ]
  },
  {
   "cell_type": "code",
   "execution_count": 106,
   "metadata": {},
   "outputs": [
    {
     "data": {
      "text/plain": [
       "(array([84., 84., 77., 86.,  0.]), 84.0)"
      ]
     },
     "execution_count": 106,
     "metadata": {},
     "output_type": "execute_result"
    }
   ],
   "source": [
    "temp_X, temp_y = sample_temp_data[0][:-1], sample_temp_data[0][-1]\n",
    "temp_X, temp_y"
   ]
  },
  {
   "cell_type": "code",
   "execution_count": 167,
   "metadata": {},
   "outputs": [
    {
     "data": {
      "text/plain": [
       "(array([2.02213468e+03, 2.09637730e+03, 2.09637730e+03, 1.90751448e+03,\n",
       "        2.17159681e+03, 2.50564913e+03, 2.00223341e+03, 2.32171018e+03,\n",
       "        0.00000000e+00, 1.00000000e+00, 8.00000000e+01, 6.20000000e+01]),\n",
       " 1907.5144825788343)"
      ]
     },
     "execution_count": 167,
     "metadata": {},
     "output_type": "execute_result"
    }
   ],
   "source": [
    "load_X, load_y = sample_load_data[0][:-1], sample_load_data[0][-1]\n",
    "load_X, load_y"
   ]
  },
  {
   "cell_type": "code",
   "execution_count": 16,
   "metadata": {},
   "outputs": [
    {
     "data": {
      "text/plain": [
       "array([82., 81., 84., 89.,  0.])"
      ]
     },
     "execution_count": 16,
     "metadata": {},
     "output_type": "execute_result"
    }
   ],
   "source": [
    "temp_X"
   ]
  },
  {
   "cell_type": "code",
   "execution_count": 107,
   "metadata": {},
   "outputs": [
    {
     "data": {
      "text/plain": [
       "(array([84., 84., 77., 86.,  0.]), (5,))"
      ]
     },
     "execution_count": 107,
     "metadata": {},
     "output_type": "execute_result"
    }
   ],
   "source": [
    "temp_X, temp_X.shape"
   ]
  },
  {
   "cell_type": "code",
   "execution_count": 18,
   "metadata": {},
   "outputs": [
    {
     "data": {
      "text/plain": [
       "(array([50., 50., 14., 14.,  0.]), array([108., 108., 102., 102.,   2.]))"
      ]
     },
     "execution_count": 18,
     "metadata": {},
     "output_type": "execute_result"
    }
   ],
   "source": [
    "temp_min, temp_max"
   ]
  },
  {
   "cell_type": "code",
   "execution_count": 19,
   "metadata": {},
   "outputs": [
    {
     "data": {
      "text/plain": [
       "0.3448275862068966"
      ]
     },
     "execution_count": 19,
     "metadata": {},
     "output_type": "execute_result"
    }
   ],
   "source": [
    "(70. - 50) / (108 - 50)"
   ]
  },
  {
   "cell_type": "code",
   "execution_count": 54,
   "metadata": {},
   "outputs": [],
   "source": [
    "temp_X_scaled = scale(temp_X, temp_min, temp_max)"
   ]
  },
  {
   "cell_type": "code",
   "execution_count": 57,
   "metadata": {},
   "outputs": [
    {
     "data": {
      "text/plain": [
       "array([[0.55172414, 0.53448276, 0.79545455, 0.85227273, 0.        ]])"
      ]
     },
     "execution_count": 57,
     "metadata": {},
     "output_type": "execute_result"
    }
   ],
   "source": [
    "temp_X_scaled"
   ]
  },
  {
   "cell_type": "code",
   "execution_count": 26,
   "metadata": {},
   "outputs": [
    {
     "name": "stdout",
     "output_type": "stream",
     "text": [
      "[82. 81. 84. 89.  0.]\n",
      "[108. 108. 102. 102.   2.]\n",
      "[50. 50. 14. 14.  0.]\n"
     ]
    }
   ],
   "source": [
    "print(temp_X)\n",
    "print(temp_max)\n",
    "print(temp_min)"
   ]
  },
  {
   "cell_type": "code",
   "execution_count": 48,
   "metadata": {},
   "outputs": [
    {
     "data": {
      "text/plain": [
       "array([82., 81., 84., 89.,  0.])"
      ]
     },
     "execution_count": 48,
     "metadata": {},
     "output_type": "execute_result"
    }
   ],
   "source": [
    "temp_X"
   ]
  },
  {
   "cell_type": "code",
   "execution_count": 27,
   "metadata": {},
   "outputs": [
    {
     "data": {
      "text/plain": [
       "-0.4482758620689655"
      ]
     },
     "execution_count": 27,
     "metadata": {},
     "output_type": "execute_result"
    }
   ],
   "source": [
    "(82 - 108) / (108 - 50)"
   ]
  },
  {
   "cell_type": "code",
   "execution_count": 47,
   "metadata": {},
   "outputs": [
    {
     "name": "stderr",
     "output_type": "stream",
     "text": [
      "/opt/miniconda3/lib/python3.9/site-packages/sklearn/base.py:450: UserWarning: X does not have valid feature names, but MinMaxScaler was fitted with feature names\n",
      "  warnings.warn(\n"
     ]
    },
    {
     "data": {
      "text/plain": [
       "array([[0.55172414, 0.53448276, 0.79545455, 0.85227273, 0.        ]])"
      ]
     },
     "execution_count": 47,
     "metadata": {},
     "output_type": "execute_result"
    }
   ],
   "source": [
    "temp_X_scaler.transform(temp_X.reshape(1, -1))"
   ]
  },
  {
   "cell_type": "code",
   "execution_count": 43,
   "metadata": {},
   "outputs": [
    {
     "data": {
      "text/plain": [
       "(array([108., 108., 102., 102.,   2.]), array([50., 50., 14., 14.,  0.]))"
      ]
     },
     "execution_count": 43,
     "metadata": {},
     "output_type": "execute_result"
    }
   ],
   "source": [
    "temp_df.drop('T', axis=1).max().to_numpy(), temp_df.drop('T', axis=1).min().to_numpy()"
   ]
  },
  {
   "cell_type": "code",
   "execution_count": 49,
   "metadata": {},
   "outputs": [
    {
     "data": {
      "text/plain": [
       "0.5517241379310345"
      ]
     },
     "execution_count": 49,
     "metadata": {},
     "output_type": "execute_result"
    }
   ],
   "source": [
    "(82 - 50) / (108 - 50)"
   ]
  },
  {
   "cell_type": "code",
   "execution_count": 58,
   "metadata": {},
   "outputs": [
    {
     "data": {
      "text/plain": [
       "dict_keys(['neurons', 'centers', 'sigma', 'batch_size', 'lr', 'loss_fn'])"
      ]
     },
     "execution_count": 58,
     "metadata": {},
     "output_type": "execute_result"
    }
   ],
   "source": [
    "temp_RBF = jbl.load('temperature_Metadata_N_12_P_11_bs_32.jbl')\n",
    "temp_RBF.keys()"
   ]
  },
  {
   "cell_type": "code",
   "execution_count": 118,
   "metadata": {},
   "outputs": [
    {
     "data": {
      "text/plain": [
       "dict_keys(['neurons', 'centers', 'sigma', 'batch_size', 'lr', 'loss_fn'])"
      ]
     },
     "execution_count": 118,
     "metadata": {},
     "output_type": "execute_result"
    }
   ],
   "source": [
    "humidity_RBF = jbl.load(\"humidity_Metadata_N_12_P_10_bs_128.jbl\")\n",
    "humidity_RBF.keys()"
   ]
  },
  {
   "cell_type": "code",
   "execution_count": 154,
   "metadata": {},
   "outputs": [
    {
     "data": {
      "text/plain": [
       "dict_keys(['neurons', 'centers', 'sigma', 'batch_size', 'lr', 'loss_fn'])"
      ]
     },
     "execution_count": 154,
     "metadata": {},
     "output_type": "execute_result"
    }
   ],
   "source": [
    "load_RBF = jbl.load('load_Metadata_N_19_P_12_bs_32.jbl')\n",
    "load_RBF.keys()"
   ]
  },
  {
   "cell_type": "code",
   "execution_count": 77,
   "metadata": {},
   "outputs": [
    {
     "data": {
      "text/plain": [
       "array([[-0.24627198],\n",
       "       [-1.5727873 ],\n",
       "       [ 1.0005498 ],\n",
       "       [ 0.4618668 ],\n",
       "       [ 1.2107803 ],\n",
       "       [-1.1432909 ],\n",
       "       [-0.5108953 ],\n",
       "       [ 1.0042504 ],\n",
       "       [-0.4536422 ],\n",
       "       [ 1.0440261 ],\n",
       "       [-0.2035781 ],\n",
       "       [-0.00465495]], dtype=float32)"
      ]
     },
     "execution_count": 77,
     "metadata": {},
     "output_type": "execute_result"
    }
   ],
   "source": [
    "temp_ann = tf.keras.models.load_model('temperature_RBF_ANN_model_bs_32_N_12_P_11.h5', compile=False)\n",
    "temp_ann.get_weights()[0]"
   ]
  },
  {
   "cell_type": "code",
   "execution_count": 122,
   "metadata": {},
   "outputs": [
    {
     "data": {
      "text/plain": [
       "[array([[-0.30151144],\n",
       "        [-0.35921514],\n",
       "        [ 0.87231857],\n",
       "        [-0.34067824],\n",
       "        [ 0.05569633],\n",
       "        [-0.07151955],\n",
       "        [ 0.7730289 ],\n",
       "        [ 1.0468769 ],\n",
       "        [ 0.21688782],\n",
       "        [ 0.6648987 ],\n",
       "        [-0.7167899 ],\n",
       "        [-1.0972459 ]], dtype=float32),\n",
       " array([0.14118692], dtype=float32)]"
      ]
     },
     "execution_count": 122,
     "metadata": {},
     "output_type": "execute_result"
    }
   ],
   "source": [
    "humidity_ann = tf.keras.models.load_model('humidity_RBF_ANN_model_bs_128_N_12_P_10.h5', compile=False)\n",
    "humidity_ann.get_weights()"
   ]
  },
  {
   "cell_type": "code",
   "execution_count": 156,
   "metadata": {},
   "outputs": [
    {
     "data": {
      "text/plain": [
       "[array([[ 1.6952595 ],\n",
       "        [ 0.5129921 ],\n",
       "        [-0.6252557 ],\n",
       "        [ 0.5787313 ],\n",
       "        [-0.7234435 ],\n",
       "        [ 0.4818933 ],\n",
       "        [ 0.9326393 ],\n",
       "        [-0.60815436],\n",
       "        [-0.38618377],\n",
       "        [ 0.29487938],\n",
       "        [-0.35583895],\n",
       "        [-1.1777999 ],\n",
       "        [-0.14523646],\n",
       "        [-1.1294508 ],\n",
       "        [-0.3709881 ],\n",
       "        [-0.02318509],\n",
       "        [-0.12705478],\n",
       "        [ 0.38697445],\n",
       "        [ 0.82205844]], dtype=float32),\n",
       " array([0.3149658], dtype=float32)]"
      ]
     },
     "execution_count": 156,
     "metadata": {},
     "output_type": "execute_result"
    }
   ],
   "source": [
    "load_ann = load_model('load_RBF_ANN_model_bs_32_N_19_P_12.h5', compile=False)\n",
    "load_ann.get_weights()"
   ]
  },
  {
   "cell_type": "code",
   "execution_count": 80,
   "metadata": {},
   "outputs": [
    {
     "data": {
      "text/plain": [
       "['models/temp_optimal_info.jbl']"
      ]
     },
     "execution_count": 80,
     "metadata": {},
     "output_type": "execute_result"
    }
   ],
   "source": [
    "temp_optimal_info = {\n",
    "    'neurons' : temp_RBF['neurons'],\n",
    "    'centers' : temp_RBF['centers'],\n",
    "    'sigma' : temp_RBF['sigma'],\n",
    "    'x_min' : temp_min,\n",
    "    'x_max' : temp_max,\n",
    "    'y_min' : temp_y_scaler.data_min_,\n",
    "    'y_max' : temp_y_scaler.data_max_,\n",
    "    'ann_weights' : temp_ann.get_weights()[0],\n",
    "    'ann_bias' : temp_ann.get_weights()[1]\n",
    "}\n",
    "\n",
    "jbl.dump(temp_optimal_info, 'models/temp_optimal_info.jbl')"
   ]
  },
  {
   "cell_type": "code",
   "execution_count": 149,
   "metadata": {},
   "outputs": [
    {
     "data": {
      "text/plain": [
       "['models/humidity_optimal_info.jbl']"
      ]
     },
     "execution_count": 149,
     "metadata": {},
     "output_type": "execute_result"
    }
   ],
   "source": [
    "humidity_optimal_info = {\n",
    "    'neurons' : humidity_RBF['neurons'],\n",
    "    'centers' : humidity_RBF['centers'],\n",
    "    'sigma' : humidity_RBF['sigma'],\n",
    "    'x_min' : humidity_x_scaler.data_min_,\n",
    "    'x_max' : humidity_x_scaler.data_max_,\n",
    "    'y_min' : humidity_y_scaler.data_min_,\n",
    "    'y_max' : humidity_y_scaler.data_max_,\n",
    "    'ann_weights' : humidity_ann.get_weights()[0],\n",
    "    'ann_bias' : humidity_ann.get_weights()[1]\n",
    "}\n",
    "\n",
    "jbl.dump(humidity_optimal_info, 'models/humidity_optimal_info.jbl')"
   ]
  },
  {
   "cell_type": "code",
   "execution_count": 161,
   "metadata": {},
   "outputs": [
    {
     "data": {
      "text/plain": [
       "['models/load_optimal_info.jbl']"
      ]
     },
     "execution_count": 161,
     "metadata": {},
     "output_type": "execute_result"
    }
   ],
   "source": [
    "load_optimal_info = {\n",
    "    'neurons' : load_RBF['neurons'],\n",
    "    'centers' : load_RBF['centers'],\n",
    "    'sigma' : load_RBF['sigma'],\n",
    "    'x_min' : load_x_scaler.data_min_,\n",
    "    'x_max' : load_x_scaler.data_max_,\n",
    "    'y_min' : load_y_scaler.data_min_,\n",
    "    'y_max' : load_y_scaler.data_max_,\n",
    "    'ann_weights' : load_ann.get_weights()[0],\n",
    "    'ann_bias' : load_ann.get_weights()[1]\n",
    "}\n",
    "\n",
    "jbl.dump(load_optimal_info, 'models/load_optimal_info.jbl')"
   ]
  },
  {
   "attachments": {},
   "cell_type": "markdown",
   "metadata": {},
   "source": [
    "- inputs\n",
    "- scale\n",
    "- predict\n",
    "- descale"
   ]
  },
  {
   "cell_type": "code",
   "execution_count": 172,
   "metadata": {},
   "outputs": [
    {
     "data": {
      "text/plain": [
       "(12,)"
      ]
     },
     "execution_count": 172,
     "metadata": {},
     "output_type": "execute_result"
    }
   ],
   "source": [
    "load_X.shape"
   ]
  },
  {
   "cell_type": "code",
   "execution_count": 175,
   "metadata": {},
   "outputs": [
    {
     "data": {
      "text/plain": [
       "array([[0.26745294, 0.2803994 , 0.2803994 , 0.24811643, 0.29325693,\n",
       "        0.35304726, 0.26735294, 0.32399393, 0.        , 0.5       ,\n",
       "        0.51724138, 0.54545455]])"
      ]
     },
     "execution_count": 175,
     "metadata": {},
     "output_type": "execute_result"
    }
   ],
   "source": [
    "load_X_scaled = scale(load_X, load_x_scaler.data_min_, load_x_scaler.data_max_)\n",
    "load_X_scaled"
   ]
  },
  {
   "cell_type": "code",
   "execution_count": 177,
   "metadata": {},
   "outputs": [
    {
     "name": "stdout",
     "output_type": "stream",
     "text": [
      "1/1 [==============================] - 0s 58ms/step\n"
     ]
    },
    {
     "name": "stderr",
     "output_type": "stream",
     "text": [
      "2023-03-11 13:31:39.283069: I tensorflow/core/grappler/optimizers/custom_graph_optimizer_registry.cc:113] Plugin optimizer for device_type GPU is enabled.\n"
     ]
    },
    {
     "data": {
      "text/plain": [
       "(1, 10)"
      ]
     },
     "execution_count": 177,
     "metadata": {},
     "output_type": "execute_result"
    }
   ],
   "source": [
    "ae_model = load_model('Autoencoder_ls_10_bs_64.h5', compile=False)\n",
    "ae_out = ae_model.predict(load_X_scaled.reshape(1, -1))\n",
    "ae_out.shape"
   ]
  },
  {
   "cell_type": "code",
   "execution_count": 178,
   "metadata": {},
   "outputs": [
    {
     "data": {
      "text/plain": [
       "array([[0.90358514, 0.2838107 , 1.7103277 , 2.8699527 , 0.4922726 ,\n",
       "        0.99366343, 1.5130675 , 0.8130185 , 2.1930919 ]], dtype=float32)"
      ]
     },
     "execution_count": 178,
     "metadata": {},
     "output_type": "execute_result"
    }
   ],
   "source": [
    "ae_out = pd.DataFrame(ae_out).drop(3, axis=1).to_numpy()\n",
    "ae_out"
   ]
  },
  {
   "cell_type": "code",
   "execution_count": 179,
   "metadata": {},
   "outputs": [
    {
     "data": {
      "text/plain": [
       "(1, 9)"
      ]
     },
     "execution_count": 179,
     "metadata": {},
     "output_type": "execute_result"
    }
   ],
   "source": [
    "ae_out.shape"
   ]
  },
  {
   "cell_type": "code",
   "execution_count": 201,
   "metadata": {},
   "outputs": [
    {
     "data": {
      "text/plain": [
       "array([[0.62070864, 0.8128785 , 0.48164003, 0.76648517, 0.77100471,\n",
       "        0.66448312, 0.57024745, 0.66642697, 0.49158494, 0.75644878,\n",
       "        0.71862719, 0.62528479, 0.82985327, 0.63199787, 0.78927861,\n",
       "        0.9362825 , 0.73030643, 0.47618812, 0.6451192 ]])"
      ]
     },
     "execution_count": 201,
     "metadata": {},
     "output_type": "execute_result"
    }
   ],
   "source": [
    "out_matrix(ae_out, load_RBF['neurons'], load_RBF['centers'], load_RBF['sigma'])"
   ]
  },
  {
   "cell_type": "code",
   "execution_count": 184,
   "metadata": {},
   "outputs": [
    {
     "name": "stdout",
     "output_type": "stream",
     "text": [
      "1/1 [==============================] - 0s 58ms/step\n"
     ]
    },
    {
     "name": "stderr",
     "output_type": "stream",
     "text": [
      "2023-03-11 13:42:22.168606: I tensorflow/core/grappler/optimizers/custom_graph_optimizer_registry.cc:113] Plugin optimizer for device_type GPU is enabled.\n"
     ]
    },
    {
     "data": {
      "text/plain": [
       "array([[0.32964164]], dtype=float32)"
      ]
     },
     "execution_count": 184,
     "metadata": {},
     "output_type": "execute_result"
    }
   ],
   "source": [
    "load_ann.predict(out_matrix(ae_out, load_RBF['neurons'], load_RBF['centers'], load_RBF['sigma']))"
   ]
  },
  {
   "cell_type": "code",
   "execution_count": 187,
   "metadata": {},
   "outputs": [
    {
     "data": {
      "text/plain": [
       "array([[2489.25397262]])"
      ]
     },
     "execution_count": 187,
     "metadata": {},
     "output_type": "execute_result"
    }
   ],
   "source": [
    "load = (np.array([[6619.96585773]]) - np.array([458.02005145])) * 0.32964164 + np.array([458.02005145])\n",
    "load"
   ]
  },
  {
   "cell_type": "code",
   "execution_count": 199,
   "metadata": {},
   "outputs": [],
   "source": [
    "def scale(x, min, max):\n",
    "    return np.array([[(x[i] - min[i]) / (max[i] - min[i]) for i in range(len(x))]])\n",
    "\n",
    "def descale(x_scaled, min, max):\n",
    "    return (max - min) * x_scaled + min\n",
    "\n",
    "def out_matrix(X, n_hidden, centroids, sigma_mat):\n",
    "        out_mat = np.zeros((X.shape[0], n_hidden))\n",
    "        for i in range(len(X)):\n",
    "            for j in range(n_hidden):\n",
    "                numerator = -np.square(X[i] - centroids[j]).sum()\n",
    "                denominator = 2*(np.square(sigma_mat[j]))\n",
    "                out_mat[i][j] = np.exp(numerator/denominator)\n",
    "        return out_mat\n",
    "\n",
    "def autoEncoder(inputs, file_path:str):\n",
    "    ae_model = tf.keras.models.load_model(file_path)\n",
    "    return pd.DataFrame(ae_model.predict(inputs)).drop(3, axis=1).to_numpy()\n",
    "\n",
    "def predict(inputs, file_path:str, ae_filepath:str=None, load=False):\n",
    "    metadata = jbl.load(file_path)  \n",
    "    if load: x_scaled = autoEncoder(inputs, ae_filepath)      \n",
    "    else: x_scaled = scale(inputs, metadata['x_min'], metadata['x_max'])\n",
    "    out_mat = out_matrix(x_scaled, metadata['neurons'], metadata['centers'], metadata['sigma'])\n",
    "    print(out_mat)\n",
    "    ann_out = out_mat @ metadata['ann_weights'] + metadata['ann_bias']\n",
    "    return descale(ann_out, metadata['y_min'], metadata['y_max'])"
   ]
  },
  {
   "cell_type": "code",
   "execution_count": 194,
   "metadata": {},
   "outputs": [
    {
     "name": "stdout",
     "output_type": "stream",
     "text": [
      "1/1 [==============================] - 0s 46ms/step\n"
     ]
    },
    {
     "name": "stderr",
     "output_type": "stream",
     "text": [
      "2023-03-11 13:49:39.260210: I tensorflow/core/grappler/optimizers/custom_graph_optimizer_registry.cc:113] Plugin optimizer for device_type GPU is enabled.\n"
     ]
    },
    {
     "data": {
      "text/plain": [
       "array([[0.90358514, 0.2838107 , 1.7103277 , 2.8699527 , 0.4922726 ,\n",
       "        0.99366343, 1.5130675 , 0.8130185 , 2.1930919 ]], dtype=float32)"
      ]
     },
     "execution_count": 194,
     "metadata": {},
     "output_type": "execute_result"
    }
   ],
   "source": [
    "autoEncoder(load_X_scaled, 'Autoencoder_ls_10_bs_64.h5')"
   ]
  },
  {
   "cell_type": "code",
   "execution_count": null,
   "metadata": {},
   "outputs": [],
   "source": []
  },
  {
   "cell_type": "code",
   "execution_count": 151,
   "metadata": {},
   "outputs": [
    {
     "name": "stdout",
     "output_type": "stream",
     "text": [
      "[[0.5862069  0.5862069  0.71590909 0.81818182 0.        ]]\n",
      "[[0.46287085 0.61675923 0.97619411 0.3392412  0.33633413 0.96949456\n",
      "  0.40489012 0.81247055 0.27885335 0.60393592 0.29958091 0.47153092]]\n"
     ]
    },
    {
     "data": {
      "text/plain": [
       "array([[83.45884478]])"
      ]
     },
     "execution_count": 151,
     "metadata": {},
     "output_type": "execute_result"
    }
   ],
   "source": [
    "predict(temp_X, 'models/temp_optimal_info.jbl')"
   ]
  },
  {
   "cell_type": "code",
   "execution_count": 152,
   "metadata": {},
   "outputs": [
    {
     "name": "stdout",
     "output_type": "stream",
     "text": [
      "[[0.5862069  0.5862069  0.71590909 0.81818182 0.        ]]\n",
      "[[0.29140949 0.45259908 0.22644311 0.36287695 0.96577146 0.79581475\n",
      "  0.58411555 0.28863625 0.42788496 0.97266629 0.56922217 0.24680899]]\n"
     ]
    },
    {
     "data": {
      "text/plain": [
       "array([[82.28206776]])"
      ]
     },
     "execution_count": 152,
     "metadata": {},
     "output_type": "execute_result"
    }
   ],
   "source": [
    "predict(temp_X, 'models/humidity_optimal_info.jbl')"
   ]
  },
  {
   "cell_type": "code",
   "execution_count": 206,
   "metadata": {},
   "outputs": [
    {
     "name": "stdout",
     "output_type": "stream",
     "text": [
      "1/1 [==============================] - 0s 47ms/step\n",
      "[[0.62070864 0.8128785  0.48164003 0.76648517 0.77100471 0.66448312\n",
      "  0.57024745 0.66642697 0.49158494 0.75644878 0.71862719 0.62528479\n",
      "  0.82985327 0.63199787 0.78927861 0.9362825  0.73030643 0.47618812\n",
      "  0.6451192 ]]\n"
     ]
    },
    {
     "name": "stderr",
     "output_type": "stream",
     "text": [
      "2023-03-11 14:09:10.487194: I tensorflow/core/grappler/optimizers/custom_graph_optimizer_registry.cc:113] Plugin optimizer for device_type GPU is enabled.\n"
     ]
    },
    {
     "data": {
      "text/plain": [
       "array([[2385.82555987]])"
      ]
     },
     "execution_count": 206,
     "metadata": {},
     "output_type": "execute_result"
    }
   ],
   "source": [
    "predict(load_X_scaled, 'models/load_optimal_info.jbl', load=True, ae_filepath='Autoencoder_ls_10_bs_64.h5')"
   ]
  },
  {
   "cell_type": "code",
   "execution_count": 207,
   "metadata": {},
   "outputs": [
    {
     "data": {
      "text/plain": [
       "(1, 12)"
      ]
     },
     "execution_count": 207,
     "metadata": {},
     "output_type": "execute_result"
    }
   ],
   "source": [
    "load_X_scaled.shape"
   ]
  },
  {
   "cell_type": "code",
   "execution_count": 203,
   "metadata": {},
   "outputs": [
    {
     "data": {
      "text/plain": [
       "(5,)"
      ]
     },
     "execution_count": 203,
     "metadata": {},
     "output_type": "execute_result"
    }
   ],
   "source": [
    "temp_X.shape"
   ]
  },
  {
   "cell_type": "code",
   "execution_count": 204,
   "metadata": {},
   "outputs": [
    {
     "data": {
      "text/plain": [
       "array([[0.26745294, 0.2803994 , 0.2803994 , 0.24811643, 0.29325693,\n",
       "        0.35304726, 0.26735294, 0.32399393, 0.        , 0.5       ,\n",
       "        0.51724138, 0.54545455]])"
      ]
     },
     "execution_count": 204,
     "metadata": {},
     "output_type": "execute_result"
    }
   ],
   "source": [
    "load_X_scaled"
   ]
  },
  {
   "cell_type": "code",
   "execution_count": 205,
   "metadata": {},
   "outputs": [
    {
     "data": {
      "text/plain": [
       "array([[2489.25397262]])"
      ]
     },
     "execution_count": 205,
     "metadata": {},
     "output_type": "execute_result"
    }
   ],
   "source": [
    "load"
   ]
  },
  {
   "cell_type": "code",
   "execution_count": null,
   "metadata": {},
   "outputs": [],
   "source": []
  }
 ],
 "metadata": {
  "kernelspec": {
   "display_name": "base",
   "language": "python",
   "name": "python3"
  },
  "language_info": {
   "codemirror_mode": {
    "name": "ipython",
    "version": 3
   },
   "file_extension": ".py",
   "mimetype": "text/x-python",
   "name": "python",
   "nbconvert_exporter": "python",
   "pygments_lexer": "ipython3",
   "version": "3.9.12"
  },
  "orig_nbformat": 4
 },
 "nbformat": 4,
 "nbformat_minor": 2
}
